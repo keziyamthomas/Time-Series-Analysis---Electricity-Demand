{
 "cells": [
  {
   "cell_type": "code",
   "execution_count": null,
   "id": "22fc24ff",
   "metadata": {},
   "outputs": [],
   "source": [
    "# kernel - tvenv"
   ]
  },
  {
   "cell_type": "code",
   "execution_count": null,
   "id": "4bbf4ca3",
   "metadata": {},
   "outputs": [],
   "source": [
    "import os\n",
    "import glob\n",
    "import pandas as pd\n",
    "import statsmodels.api as sm\n",
    "import matplotlib.pyplot as plt\n",
    "%matplotlib inline\n",
    "import itertools\n",
    "from statsmodels.tsa.stattools import adfuller\n",
    "import sklearn\n",
    "from sklearn.preprocessing import MinMaxScaler\n",
    "import numpy as np"
   ]
  },
  {
   "cell_type": "code",
   "execution_count": null,
   "id": "ad9e4d6b",
   "metadata": {},
   "outputs": [],
   "source": [
    "csv_files = glob.glob(\"dataset/*.csv\")\n",
    "print(csv_files[:2])"
   ]
  },
  {
   "cell_type": "code",
   "execution_count": null,
   "id": "1e3a1a09",
   "metadata": {},
   "outputs": [],
   "source": [
    "energy_df = pd.concat(pd.read_csv(file) for file in csv_files)\n",
    "energy_df"
   ]
  },
  {
   "cell_type": "code",
   "execution_count": null,
   "id": "4e26da06",
   "metadata": {},
   "outputs": [],
   "source": [
    "energy_df.info()"
   ]
  },
  {
   "cell_type": "code",
   "execution_count": null,
   "id": "80b253ea",
   "metadata": {},
   "outputs": [],
   "source": [
    "energy_df.describe()"
   ]
  },
  {
   "cell_type": "code",
   "execution_count": null,
   "id": "8e15458d",
   "metadata": {},
   "outputs": [],
   "source": [
    "for col in energy_df.columns:\n",
    "    print(col + \": \" + str(energy_df[col].nunique()))"
   ]
  },
  {
   "cell_type": "code",
   "execution_count": null,
   "id": "1f119d28",
   "metadata": {},
   "outputs": [],
   "source": [
    "# dropping 2 columns with the same value throughout the dataframe\n",
    "energy_df.drop([\"REGION\",\"PERIODTYPE\"],axis=1,inplace=True)\n",
    "energy_df.head()"
   ]
  },
  {
   "cell_type": "code",
   "execution_count": null,
   "id": "4c2b74da",
   "metadata": {},
   "outputs": [],
   "source": [
    "energy_df['SETTLEMENTDATE'] = pd.to_datetime(energy_df['SETTLEMENTDATE'])\n",
    "energy_df.head(2)"
   ]
  },
  {
   "cell_type": "code",
   "execution_count": null,
   "id": "9e9ecbbb",
   "metadata": {},
   "outputs": [],
   "source": [
    "# verifying if the column has changed to datetime field\n",
    "energy_df.info()"
   ]
  },
  {
   "cell_type": "code",
   "execution_count": null,
   "id": "906c21f8",
   "metadata": {},
   "outputs": [],
   "source": [
    "energy_df.sort_values(by=[\"SETTLEMENTDATE\"],inplace=True)\n",
    "energy_df[100:105]"
   ]
  },
  {
   "cell_type": "markdown",
   "id": "42fed665",
   "metadata": {},
   "source": [
    "#### Visualizing average daily demand for the entire period"
   ]
  },
  {
   "cell_type": "code",
   "execution_count": null,
   "id": "28a0f9ea",
   "metadata": {},
   "outputs": [],
   "source": [
    "# calculating average demand per day for visualization\n",
    "vis_df = energy_df.copy()\n",
    "vis_df['SD_DATE'] = vis_df['SETTLEMENTDATE'].dt.date\n",
    "vis_df = vis_df.groupby('SD_DATE')['TOTALDEMAND'].sum().reset_index()\n",
    "vis_df.head(5)"
   ]
  },
  {
   "cell_type": "code",
   "execution_count": null,
   "id": "4b131e66",
   "metadata": {},
   "outputs": [],
   "source": [
    "vis_df = vis_df.set_index(\"SD_DATE\")\n",
    "vis_df.head(5)"
   ]
  },
  {
   "cell_type": "code",
   "execution_count": null,
   "id": "ac93f05c",
   "metadata": {},
   "outputs": [],
   "source": [
    "vis_df.plot(figsize=(15, 6))\n",
    "plt.show()"
   ]
  },
  {
   "cell_type": "code",
   "execution_count": null,
   "id": "5abae132",
   "metadata": {},
   "outputs": [],
   "source": [
    "decomposition = sm.tsa.seasonal_decompose(vis_df,period=365)\n",
    "fig = decomposition.plot()\n",
    "plt.show()"
   ]
  },
  {
   "cell_type": "markdown",
   "id": "c7c73262",
   "metadata": {},
   "source": [
    "#### Extracting more features for modelling"
   ]
  },
  {
   "cell_type": "code",
   "execution_count": null,
   "id": "f31094e6",
   "metadata": {},
   "outputs": [],
   "source": [
    "energy_df['Weekday'] = energy_df['SETTLEMENTDATE'].dt.weekday\n",
    "energy_df['Hour'] = energy_df['SETTLEMENTDATE'].dt.hour\n",
    "energy_df['Minute'] = energy_df['SETTLEMENTDATE'].dt.minute\n",
    "energy_df['Quarter'] = energy_df['SETTLEMENTDATE'].dt.quarter\n",
    "energy_df['Time'] = (energy_df['Hour'] * 60 + energy_df['Minute']) / 60\n",
    "energy_df['Month'] = energy_df['SETTLEMENTDATE'].dt.month"
   ]
  },
  {
   "cell_type": "code",
   "execution_count": null,
   "id": "b46184eb",
   "metadata": {},
   "outputs": [],
   "source": [
    "# importing holidays in NSW\n",
    "\n",
    "import holidays\n",
    "\n",
    "energy_df['Year'] = energy_df['SETTLEMENTDATE'].dt.year\n",
    "years = list(energy_df['Year'].unique())\n",
    "nsw_holidays = holidays.Australia(state=\"NSW\",years=years)\n",
    "next(iter(nsw_holidays))"
   ]
  },
  {
   "cell_type": "code",
   "execution_count": null,
   "id": "5b30f34b",
   "metadata": {},
   "outputs": [],
   "source": [
    "# marking holidays in NSW\n",
    "energy_df['SETTLEMENTDATE_Date'] = energy_df['SETTLEMENTDATE'].dt.date\n",
    "def label_holidays(date):\n",
    "    if date in nsw_holidays.keys():\n",
    "        return 1\n",
    "    else:\n",
    "        return 0\n",
    "    \n",
    "energy_df['Holiday'] = energy_df['SETTLEMENTDATE_Date'].apply(label_holidays)"
   ]
  },
  {
   "cell_type": "code",
   "execution_count": null,
   "id": "b74e0046",
   "metadata": {},
   "outputs": [],
   "source": [
    "energy_df.loc[energy_df['Holiday']==1]"
   ]
  },
  {
   "cell_type": "code",
   "execution_count": null,
   "id": "f68d8e20",
   "metadata": {},
   "outputs": [],
   "source": [
    "# dropping year and date columns as they were extracted to support other columns and not really needed\n",
    "energy_df.drop(['SETTLEMENTDATE_Date','Year'],axis=1,inplace=True)\n",
    "energy_df.head(5)"
   ]
  },
  {
   "cell_type": "code",
   "execution_count": null,
   "id": "2b80bc14",
   "metadata": {},
   "outputs": [],
   "source": [
    "# Adding demand lag columns\n",
    "energy_df['Demand_lag1'] = energy_df['TOTALDEMAND'].shift(1)\n",
    "energy_df['Demand_lag2'] = energy_df['TOTALDEMAND'].shift(2)\n",
    "energy_df = energy_df.dropna()\n",
    "energy_df.head(5)"
   ]
  },
  {
   "cell_type": "code",
   "execution_count": null,
   "id": "53aaa1f7",
   "metadata": {},
   "outputs": [],
   "source": [
    "# checking if all columns are in the form we need\n",
    "energy_df.info()"
   ]
  },
  {
   "cell_type": "code",
   "execution_count": null,
   "id": "e9f587ba",
   "metadata": {},
   "outputs": [],
   "source": [
    "# Resampling the time series data to half an hour frequency\n",
    "energy_df = energy_df.set_index('SETTLEMENTDATE').resample(\"30min\").mean().reset_index()\n",
    "energy_df.head(5)"
   ]
  },
  {
   "cell_type": "code",
   "execution_count": null,
   "id": "c80e6ed5",
   "metadata": {},
   "outputs": [],
   "source": [
    "energy_df = energy_df.set_index('SETTLEMENTDATE')\n",
    "energy_df.head(5)"
   ]
  },
  {
   "cell_type": "code",
   "execution_count": null,
   "id": "4befc42b",
   "metadata": {},
   "outputs": [],
   "source": [
    "decompose_plot = sm.tsa.seasonal_decompose(energy_df['TOTALDEMAND'],period=48*365)\n",
    "fig = decompose_plot.plot()\n",
    "fig.set_size_inches((16, 9))\n",
    "fig.tight_layout()\n",
    "plt.show()"
   ]
  },
  {
   "cell_type": "markdown",
   "id": "e5f6db74",
   "metadata": {},
   "source": [
    "#### AD Fuller test"
   ]
  },
  {
   "cell_type": "code",
   "execution_count": null,
   "id": "e675f830",
   "metadata": {},
   "outputs": [],
   "source": [
    "# AD Fuller test OR unit root test for stationarity\n",
    "# H0 - A unit root exists for the series and data is not stationary\n",
    "# H1 - The series has no unit root and data is stationary\n",
    "# If p-value > 0.05, H0 holds and data is non-stationary\n",
    "# If p-value < 0.05, reject HO and data is stationary\n",
    "\n",
    "stationarity_test = adfuller(energy_df['TOTALDEMAND'])\n",
    "print('ADF Statistic: %f' % stationarity_test[0])\n",
    "print('p-value: %f' % stationarity_test[1])\n",
    "print('Critical Values:')\n",
    "for key, value in stationarity_test[4].items():\n",
    "    print('\\t%s: %.3f' % (key, value))\n"
   ]
  },
  {
   "cell_type": "markdown",
   "id": "91619102",
   "metadata": {},
   "source": [
    "#### Univariate time series foecasting using Seasonal ARIMA\n",
    "<p> This uses only previous values from the same variable to predict the next or future values, no other features or predictors are considered"
   ]
  },
  {
   "cell_type": "code",
   "execution_count": 107,
   "id": "b8d34816",
   "metadata": {},
   "outputs": [],
   "source": [
    "train = energy_df.loc[:'2022-1-31 00:00:00']\n",
    "test = energy_df.loc['2022-01-31 00:0:00':]"
   ]
  },
  {
   "cell_type": "code",
   "execution_count": null,
   "id": "9f452577",
   "metadata": {},
   "outputs": [],
   "source": [
    "model = sm.tsa.statespace.SARIMAX(train['TOTALDEMAND'], order=(1, 1, 1))\n",
    "model_fit = model.fit(disp=False)"
   ]
  },
  {
   "cell_type": "code",
   "execution_count": null,
   "id": "c0ee9589",
   "metadata": {},
   "outputs": [],
   "source": [
    "test['predictions'] = model_fit.predict(start='2022-01-31 00:0:00', end=test.index[-1])"
   ]
  },
  {
   "cell_type": "code",
   "execution_count": null,
   "id": "c75ea19e",
   "metadata": {},
   "outputs": [],
   "source": [
    "from sklearn.metrics import mean_absolute_error, mean_squared_error\n",
    "\n",
    "mae = mean_absolute_error(test['TOTALDEMAND'], test['predictions'])\n",
    "mse = mean_squared_error(test['TOTALDEMAND'], test['predictions'])\n",
    "rmse = np.sqrt(mse)\n",
    "\n",
    "print(f\"Mean Absolute Error: {mae:.4f}\")\n",
    "print(f\"Mean Squared Error: {mse:.4f}\")\n",
    "print(f\"Root Mean Squared Error: {rmse:.4f}\")"
   ]
  },
  {
   "cell_type": "code",
   "execution_count": null,
   "id": "31ac57e2",
   "metadata": {},
   "outputs": [],
   "source": [
    "plt.figure(figsize=(15,5))\n",
    "plt.xlabel('Year')\n",
    "plt.ylabel('Demand')\n",
    "\n",
    "test['TOTALDEMAND'].plot(color='blue')\n",
    "test['predictions'].plot(color='orange')\n",
    "plt.show()"
   ]
  },
  {
   "cell_type": "markdown",
   "id": "f723ca7b",
   "metadata": {},
   "source": [
    "##### Observation\n",
    "\n",
    "<p> After few initial forecasts, all other fpredictions give the same value.<br>\n",
    "    This is because simple AR and MA models are intended to perform one-step-ahead predictions"
   ]
  },
  {
   "cell_type": "code",
   "execution_count": null,
   "id": "663827ef",
   "metadata": {},
   "outputs": [],
   "source": [
    "test[100:120]['predictions']"
   ]
  },
  {
   "cell_type": "markdown",
   "id": "2aef3b9d",
   "metadata": {},
   "source": [
    "##### Attempting the same method after scaling the values"
   ]
  },
  {
   "cell_type": "code",
   "execution_count": null,
   "id": "c3bbc824",
   "metadata": {
    "scrolled": false
   },
   "outputs": [],
   "source": [
    "scaler = MinMaxScaler()\n",
    "train['DEMAND_scaled'] = scaler.fit_transform(train[['TOTALDEMAND']])\n",
    "test['DEMAND_scaled'] = scaler.transform(test[['TOTALDEMAND']])\n",
    "\n",
    "model = sm.tsa.statespace.SARIMAX(train['DEMAND_scaled'], order=(1, 1, 1))\n",
    "model_fit = model.fit(disp=False)\n",
    "\n",
    "test['predictions'] = model_fit.predict(start='2022-01-31 00:0:00', end=test.index[-1])\n",
    "\n",
    "mae = mean_absolute_error(test['DEMAND_scaled'], test['predictions'])\n",
    "mse = mean_squared_error(test['DEMAND_scaled'], test['predictions'])\n",
    "rmse = np.sqrt(mse)\n",
    "\n",
    "print(f\"Mean Absolute Error: {mae:.4f}\")\n",
    "print(f\"Mean Squared Error: {mse:.4f}\")\n",
    "print(f\"Root Mean Squared Error: {rmse:.4f}\")"
   ]
  },
  {
   "cell_type": "markdown",
   "id": "78e31788",
   "metadata": {},
   "source": [
    "#### Recursive multi-step forecasting\n",
    "1. Train a single model to predict demand for next time step\n",
    "2. Model is trained iteratively with predicted demand to get predictions for multiple timesteps"
   ]
  },
  {
   "cell_type": "code",
   "execution_count": 120,
   "id": "4d23787e",
   "metadata": {
    "scrolled": true
   },
   "outputs": [
    {
     "name": "stderr",
     "output_type": "stream",
     "text": [
      "/var/folders/7w/p9vq5jld0ys_125td69sqz_h0000gn/T/ipykernel_4484/342759256.py:5: SettingWithCopyWarning: \n",
      "A value is trying to be set on a copy of a slice from a DataFrame.\n",
      "Try using .loc[row_indexer,col_indexer] = value instead\n",
      "\n",
      "See the caveats in the documentation: https://pandas.pydata.org/pandas-docs/stable/user_guide/indexing.html#returning-a-view-versus-a-copy\n",
      "  train['DEMAND_FORECAST'] = energy_df['TOTALDEMAND']\n",
      "/var/folders/7w/p9vq5jld0ys_125td69sqz_h0000gn/T/ipykernel_4484/342759256.py:6: SettingWithCopyWarning: \n",
      "A value is trying to be set on a copy of a slice from a DataFrame.\n",
      "Try using .loc[row_indexer,col_indexer] = value instead\n",
      "\n",
      "See the caveats in the documentation: https://pandas.pydata.org/pandas-docs/stable/user_guide/indexing.html#returning-a-view-versus-a-copy\n",
      "  test['DEMAND_FORECAST'] = 0.0\n",
      "/Users/keziya/Desktop/Github/Time-Series-Analysis---Electricity-Demand/venv/lib/python3.9/site-packages/statsmodels/tsa/base/tsa_model.py:473: ValueWarning: No frequency information was provided, so inferred frequency 30min will be used.\n",
      "  self._init_dates(dates, freq)\n",
      "/Users/keziya/Desktop/Github/Time-Series-Analysis---Electricity-Demand/venv/lib/python3.9/site-packages/statsmodels/tsa/base/tsa_model.py:473: ValueWarning: No frequency information was provided, so inferred frequency 30min will be used.\n",
      "  self._init_dates(dates, freq)\n"
     ]
    },
    {
     "name": "stdout",
     "output_type": "stream",
     "text": [
      "Training details:\n",
      "Train set size 96170\n",
      "Predicting demand for timestamp: 2023-06-27 14:30:00\n",
      "Training details:\n",
      "Train set size 96171\n",
      "Predicting demand for timestamp: 2023-06-27 15:00:00\n"
     ]
    },
    {
     "name": "stderr",
     "output_type": "stream",
     "text": [
      "/Users/keziya/Desktop/Github/Time-Series-Analysis---Electricity-Demand/venv/lib/python3.9/site-packages/statsmodels/tsa/base/tsa_model.py:473: ValueWarning: No frequency information was provided, so inferred frequency 30min will be used.\n",
      "  self._init_dates(dates, freq)\n",
      "/Users/keziya/Desktop/Github/Time-Series-Analysis---Electricity-Demand/venv/lib/python3.9/site-packages/statsmodels/tsa/base/tsa_model.py:473: ValueWarning: No frequency information was provided, so inferred frequency 30min will be used.\n",
      "  self._init_dates(dates, freq)\n"
     ]
    },
    {
     "name": "stdout",
     "output_type": "stream",
     "text": [
      "Training details:\n",
      "Train set size 96172\n",
      "Predicting demand for timestamp: 2023-06-27 15:30:00\n"
     ]
    },
    {
     "name": "stderr",
     "output_type": "stream",
     "text": [
      "/Users/keziya/Desktop/Github/Time-Series-Analysis---Electricity-Demand/venv/lib/python3.9/site-packages/statsmodels/tsa/base/tsa_model.py:473: ValueWarning: No frequency information was provided, so inferred frequency 30min will be used.\n",
      "  self._init_dates(dates, freq)\n",
      "/Users/keziya/Desktop/Github/Time-Series-Analysis---Electricity-Demand/venv/lib/python3.9/site-packages/statsmodels/tsa/base/tsa_model.py:473: ValueWarning: No frequency information was provided, so inferred frequency 30min will be used.\n",
      "  self._init_dates(dates, freq)\n"
     ]
    },
    {
     "name": "stdout",
     "output_type": "stream",
     "text": [
      "Training details:\n",
      "Train set size 96173\n",
      "Predicting demand for timestamp: 2023-06-27 16:00:00\n"
     ]
    },
    {
     "name": "stderr",
     "output_type": "stream",
     "text": [
      "/Users/keziya/Desktop/Github/Time-Series-Analysis---Electricity-Demand/venv/lib/python3.9/site-packages/statsmodels/tsa/base/tsa_model.py:473: ValueWarning: No frequency information was provided, so inferred frequency 30min will be used.\n",
      "  self._init_dates(dates, freq)\n",
      "/Users/keziya/Desktop/Github/Time-Series-Analysis---Electricity-Demand/venv/lib/python3.9/site-packages/statsmodels/tsa/base/tsa_model.py:473: ValueWarning: No frequency information was provided, so inferred frequency 30min will be used.\n",
      "  self._init_dates(dates, freq)\n"
     ]
    },
    {
     "name": "stdout",
     "output_type": "stream",
     "text": [
      "Training details:\n",
      "Train set size 96174\n",
      "Predicting demand for timestamp: 2023-06-27 16:30:00\n"
     ]
    },
    {
     "name": "stderr",
     "output_type": "stream",
     "text": [
      "/Users/keziya/Desktop/Github/Time-Series-Analysis---Electricity-Demand/venv/lib/python3.9/site-packages/statsmodels/tsa/base/tsa_model.py:473: ValueWarning: No frequency information was provided, so inferred frequency 30min will be used.\n",
      "  self._init_dates(dates, freq)\n",
      "/Users/keziya/Desktop/Github/Time-Series-Analysis---Electricity-Demand/venv/lib/python3.9/site-packages/statsmodels/tsa/base/tsa_model.py:473: ValueWarning: No frequency information was provided, so inferred frequency 30min will be used.\n",
      "  self._init_dates(dates, freq)\n"
     ]
    },
    {
     "name": "stdout",
     "output_type": "stream",
     "text": [
      "Training details:\n",
      "Train set size 96175\n",
      "Predicting demand for timestamp: 2023-06-27 17:00:00\n"
     ]
    },
    {
     "name": "stderr",
     "output_type": "stream",
     "text": [
      "/Users/keziya/Desktop/Github/Time-Series-Analysis---Electricity-Demand/venv/lib/python3.9/site-packages/statsmodels/tsa/base/tsa_model.py:473: ValueWarning: No frequency information was provided, so inferred frequency 30min will be used.\n",
      "  self._init_dates(dates, freq)\n",
      "/Users/keziya/Desktop/Github/Time-Series-Analysis---Electricity-Demand/venv/lib/python3.9/site-packages/statsmodels/tsa/base/tsa_model.py:473: ValueWarning: No frequency information was provided, so inferred frequency 30min will be used.\n",
      "  self._init_dates(dates, freq)\n"
     ]
    },
    {
     "name": "stdout",
     "output_type": "stream",
     "text": [
      "Training details:\n",
      "Train set size 96176\n",
      "Predicting demand for timestamp: 2023-06-27 17:30:00\n"
     ]
    },
    {
     "name": "stderr",
     "output_type": "stream",
     "text": [
      "/Users/keziya/Desktop/Github/Time-Series-Analysis---Electricity-Demand/venv/lib/python3.9/site-packages/statsmodels/tsa/base/tsa_model.py:473: ValueWarning: No frequency information was provided, so inferred frequency 30min will be used.\n",
      "  self._init_dates(dates, freq)\n",
      "/Users/keziya/Desktop/Github/Time-Series-Analysis---Electricity-Demand/venv/lib/python3.9/site-packages/statsmodels/tsa/base/tsa_model.py:473: ValueWarning: No frequency information was provided, so inferred frequency 30min will be used.\n",
      "  self._init_dates(dates, freq)\n"
     ]
    },
    {
     "name": "stdout",
     "output_type": "stream",
     "text": [
      "Training details:\n",
      "Train set size 96177\n",
      "Predicting demand for timestamp: 2023-06-27 18:00:00\n"
     ]
    },
    {
     "name": "stderr",
     "output_type": "stream",
     "text": [
      "/Users/keziya/Desktop/Github/Time-Series-Analysis---Electricity-Demand/venv/lib/python3.9/site-packages/statsmodels/tsa/base/tsa_model.py:473: ValueWarning: No frequency information was provided, so inferred frequency 30min will be used.\n",
      "  self._init_dates(dates, freq)\n",
      "/Users/keziya/Desktop/Github/Time-Series-Analysis---Electricity-Demand/venv/lib/python3.9/site-packages/statsmodels/tsa/base/tsa_model.py:473: ValueWarning: No frequency information was provided, so inferred frequency 30min will be used.\n",
      "  self._init_dates(dates, freq)\n"
     ]
    },
    {
     "name": "stdout",
     "output_type": "stream",
     "text": [
      "Training details:\n",
      "Train set size 96178\n",
      "Predicting demand for timestamp: 2023-06-27 18:30:00\n"
     ]
    },
    {
     "name": "stderr",
     "output_type": "stream",
     "text": [
      "/Users/keziya/Desktop/Github/Time-Series-Analysis---Electricity-Demand/venv/lib/python3.9/site-packages/statsmodels/tsa/base/tsa_model.py:473: ValueWarning: No frequency information was provided, so inferred frequency 30min will be used.\n",
      "  self._init_dates(dates, freq)\n",
      "/Users/keziya/Desktop/Github/Time-Series-Analysis---Electricity-Demand/venv/lib/python3.9/site-packages/statsmodels/tsa/base/tsa_model.py:473: ValueWarning: No frequency information was provided, so inferred frequency 30min will be used.\n",
      "  self._init_dates(dates, freq)\n"
     ]
    },
    {
     "name": "stdout",
     "output_type": "stream",
     "text": [
      "Training details:\n",
      "Train set size 96179\n",
      "Predicting demand for timestamp: 2023-06-27 19:00:00\n"
     ]
    },
    {
     "name": "stderr",
     "output_type": "stream",
     "text": [
      "/Users/keziya/Desktop/Github/Time-Series-Analysis---Electricity-Demand/venv/lib/python3.9/site-packages/statsmodels/tsa/base/tsa_model.py:473: ValueWarning: No frequency information was provided, so inferred frequency 30min will be used.\n",
      "  self._init_dates(dates, freq)\n",
      "/Users/keziya/Desktop/Github/Time-Series-Analysis---Electricity-Demand/venv/lib/python3.9/site-packages/statsmodels/tsa/base/tsa_model.py:473: ValueWarning: No frequency information was provided, so inferred frequency 30min will be used.\n",
      "  self._init_dates(dates, freq)\n"
     ]
    },
    {
     "name": "stdout",
     "output_type": "stream",
     "text": [
      "Training details:\n",
      "Train set size 96180\n",
      "Predicting demand for timestamp: 2023-06-27 19:30:00\n"
     ]
    },
    {
     "name": "stderr",
     "output_type": "stream",
     "text": [
      "/Users/keziya/Desktop/Github/Time-Series-Analysis---Electricity-Demand/venv/lib/python3.9/site-packages/statsmodels/tsa/base/tsa_model.py:473: ValueWarning: No frequency information was provided, so inferred frequency 30min will be used.\n",
      "  self._init_dates(dates, freq)\n",
      "/Users/keziya/Desktop/Github/Time-Series-Analysis---Electricity-Demand/venv/lib/python3.9/site-packages/statsmodels/tsa/base/tsa_model.py:473: ValueWarning: No frequency information was provided, so inferred frequency 30min will be used.\n",
      "  self._init_dates(dates, freq)\n"
     ]
    },
    {
     "name": "stdout",
     "output_type": "stream",
     "text": [
      "Training details:\n",
      "Train set size 96181\n",
      "Predicting demand for timestamp: 2023-06-27 20:00:00\n"
     ]
    },
    {
     "name": "stderr",
     "output_type": "stream",
     "text": [
      "/Users/keziya/Desktop/Github/Time-Series-Analysis---Electricity-Demand/venv/lib/python3.9/site-packages/statsmodels/tsa/base/tsa_model.py:473: ValueWarning: No frequency information was provided, so inferred frequency 30min will be used.\n",
      "  self._init_dates(dates, freq)\n",
      "/Users/keziya/Desktop/Github/Time-Series-Analysis---Electricity-Demand/venv/lib/python3.9/site-packages/statsmodels/tsa/base/tsa_model.py:473: ValueWarning: No frequency information was provided, so inferred frequency 30min will be used.\n",
      "  self._init_dates(dates, freq)\n"
     ]
    },
    {
     "name": "stdout",
     "output_type": "stream",
     "text": [
      "Training details:\n",
      "Train set size 96182\n",
      "Predicting demand for timestamp: 2023-06-27 20:30:00\n"
     ]
    },
    {
     "name": "stderr",
     "output_type": "stream",
     "text": [
      "/Users/keziya/Desktop/Github/Time-Series-Analysis---Electricity-Demand/venv/lib/python3.9/site-packages/statsmodels/tsa/base/tsa_model.py:473: ValueWarning: No frequency information was provided, so inferred frequency 30min will be used.\n",
      "  self._init_dates(dates, freq)\n",
      "/Users/keziya/Desktop/Github/Time-Series-Analysis---Electricity-Demand/venv/lib/python3.9/site-packages/statsmodels/tsa/base/tsa_model.py:473: ValueWarning: No frequency information was provided, so inferred frequency 30min will be used.\n",
      "  self._init_dates(dates, freq)\n"
     ]
    },
    {
     "name": "stdout",
     "output_type": "stream",
     "text": [
      "Training details:\n",
      "Train set size 96183\n",
      "Predicting demand for timestamp: 2023-06-27 21:00:00\n"
     ]
    },
    {
     "name": "stderr",
     "output_type": "stream",
     "text": [
      "/Users/keziya/Desktop/Github/Time-Series-Analysis---Electricity-Demand/venv/lib/python3.9/site-packages/statsmodels/tsa/base/tsa_model.py:473: ValueWarning: No frequency information was provided, so inferred frequency 30min will be used.\n",
      "  self._init_dates(dates, freq)\n",
      "/Users/keziya/Desktop/Github/Time-Series-Analysis---Electricity-Demand/venv/lib/python3.9/site-packages/statsmodels/tsa/base/tsa_model.py:473: ValueWarning: No frequency information was provided, so inferred frequency 30min will be used.\n",
      "  self._init_dates(dates, freq)\n"
     ]
    },
    {
     "name": "stdout",
     "output_type": "stream",
     "text": [
      "Training details:\n",
      "Train set size 96184\n",
      "Predicting demand for timestamp: 2023-06-27 21:30:00\n"
     ]
    },
    {
     "name": "stderr",
     "output_type": "stream",
     "text": [
      "/Users/keziya/Desktop/Github/Time-Series-Analysis---Electricity-Demand/venv/lib/python3.9/site-packages/statsmodels/tsa/base/tsa_model.py:473: ValueWarning: No frequency information was provided, so inferred frequency 30min will be used.\n",
      "  self._init_dates(dates, freq)\n",
      "/Users/keziya/Desktop/Github/Time-Series-Analysis---Electricity-Demand/venv/lib/python3.9/site-packages/statsmodels/tsa/base/tsa_model.py:473: ValueWarning: No frequency information was provided, so inferred frequency 30min will be used.\n",
      "  self._init_dates(dates, freq)\n"
     ]
    },
    {
     "name": "stdout",
     "output_type": "stream",
     "text": [
      "Training details:\n",
      "Train set size 96185\n",
      "Predicting demand for timestamp: 2023-06-27 22:00:00\n"
     ]
    },
    {
     "name": "stderr",
     "output_type": "stream",
     "text": [
      "/Users/keziya/Desktop/Github/Time-Series-Analysis---Electricity-Demand/venv/lib/python3.9/site-packages/statsmodels/tsa/base/tsa_model.py:473: ValueWarning: No frequency information was provided, so inferred frequency 30min will be used.\n",
      "  self._init_dates(dates, freq)\n",
      "/Users/keziya/Desktop/Github/Time-Series-Analysis---Electricity-Demand/venv/lib/python3.9/site-packages/statsmodels/tsa/base/tsa_model.py:473: ValueWarning: No frequency information was provided, so inferred frequency 30min will be used.\n",
      "  self._init_dates(dates, freq)\n"
     ]
    },
    {
     "name": "stdout",
     "output_type": "stream",
     "text": [
      "Training details:\n",
      "Train set size 96186\n",
      "Predicting demand for timestamp: 2023-06-27 22:30:00\n"
     ]
    },
    {
     "name": "stderr",
     "output_type": "stream",
     "text": [
      "/Users/keziya/Desktop/Github/Time-Series-Analysis---Electricity-Demand/venv/lib/python3.9/site-packages/statsmodels/tsa/base/tsa_model.py:473: ValueWarning: No frequency information was provided, so inferred frequency 30min will be used.\n",
      "  self._init_dates(dates, freq)\n",
      "/Users/keziya/Desktop/Github/Time-Series-Analysis---Electricity-Demand/venv/lib/python3.9/site-packages/statsmodels/tsa/base/tsa_model.py:473: ValueWarning: No frequency information was provided, so inferred frequency 30min will be used.\n",
      "  self._init_dates(dates, freq)\n"
     ]
    },
    {
     "name": "stdout",
     "output_type": "stream",
     "text": [
      "Training details:\n",
      "Train set size 96187\n",
      "Predicting demand for timestamp: 2023-06-27 23:00:00\n"
     ]
    },
    {
     "name": "stderr",
     "output_type": "stream",
     "text": [
      "/Users/keziya/Desktop/Github/Time-Series-Analysis---Electricity-Demand/venv/lib/python3.9/site-packages/statsmodels/tsa/base/tsa_model.py:473: ValueWarning: No frequency information was provided, so inferred frequency 30min will be used.\n",
      "  self._init_dates(dates, freq)\n",
      "/Users/keziya/Desktop/Github/Time-Series-Analysis---Electricity-Demand/venv/lib/python3.9/site-packages/statsmodels/tsa/base/tsa_model.py:473: ValueWarning: No frequency information was provided, so inferred frequency 30min will be used.\n",
      "  self._init_dates(dates, freq)\n"
     ]
    },
    {
     "name": "stdout",
     "output_type": "stream",
     "text": [
      "Training details:\n",
      "Train set size 96188\n",
      "Predicting demand for timestamp: 2023-06-27 23:30:00\n"
     ]
    },
    {
     "name": "stderr",
     "output_type": "stream",
     "text": [
      "/Users/keziya/Desktop/Github/Time-Series-Analysis---Electricity-Demand/venv/lib/python3.9/site-packages/statsmodels/tsa/base/tsa_model.py:473: ValueWarning: No frequency information was provided, so inferred frequency 30min will be used.\n",
      "  self._init_dates(dates, freq)\n",
      "/Users/keziya/Desktop/Github/Time-Series-Analysis---Electricity-Demand/venv/lib/python3.9/site-packages/statsmodels/tsa/base/tsa_model.py:473: ValueWarning: No frequency information was provided, so inferred frequency 30min will be used.\n",
      "  self._init_dates(dates, freq)\n"
     ]
    },
    {
     "name": "stdout",
     "output_type": "stream",
     "text": [
      "Training details:\n",
      "Train set size 96189\n",
      "Predicting demand for timestamp: 2023-06-28 00:00:00\n"
     ]
    },
    {
     "name": "stderr",
     "output_type": "stream",
     "text": [
      "/Users/keziya/Desktop/Github/Time-Series-Analysis---Electricity-Demand/venv/lib/python3.9/site-packages/statsmodels/tsa/base/tsa_model.py:473: ValueWarning: No frequency information was provided, so inferred frequency 30min will be used.\n",
      "  self._init_dates(dates, freq)\n",
      "/Users/keziya/Desktop/Github/Time-Series-Analysis---Electricity-Demand/venv/lib/python3.9/site-packages/statsmodels/tsa/base/tsa_model.py:473: ValueWarning: No frequency information was provided, so inferred frequency 30min will be used.\n",
      "  self._init_dates(dates, freq)\n"
     ]
    }
   ],
   "source": [
    "train = energy_df.loc[:'2023-06-27 14:00:00']\n",
    "test = energy_df.loc['2023-06-27 14:30:00':]\n",
    "test_idx = '2023-06-27 14:30:00'\n",
    "ts=pd.Series(to_predict.index,index=to_predict.index).sort_index().shift(-1)\n",
    "train['DEMAND_FORECAST'] = energy_df['TOTALDEMAND']\n",
    "test['DEMAND_FORECAST'] = 0.0\n",
    "for i in range(test.shape[0]):\n",
    "    print(\"Training details:\")\n",
    "    print(\"Train set size\", train.shape[0])\n",
    "    print(\"Predicting demand for timestamp:\", test_idx)\n",
    "    model = sm.tsa.statespace.SARIMAX(train['DEMAND_FORECAST'], order=(1, 1, 1))\n",
    "    model_fit = model.fit(disp=False)\n",
    "    predicion_row = test.loc[test_idx]\n",
    "    prediction = model_fit.predict(start=test_idx, end=test_idx)\n",
    "    test.loc[test.index == test_idx, 'DEMAND_FORECAST'] = prediction[test_idx]\n",
    "    train = pd.concat([train, test.loc[test.index == test_idx]])\n",
    "    test_idx = ts[test_idx]\n",
    "    "
   ]
  },
  {
   "cell_type": "code",
   "execution_count": 122,
   "id": "75d14f6e",
   "metadata": {},
   "outputs": [
    {
     "data": {
      "text/html": [
       "<div>\n",
       "<style scoped>\n",
       "    .dataframe tbody tr th:only-of-type {\n",
       "        vertical-align: middle;\n",
       "    }\n",
       "\n",
       "    .dataframe tbody tr th {\n",
       "        vertical-align: top;\n",
       "    }\n",
       "\n",
       "    .dataframe thead th {\n",
       "        text-align: right;\n",
       "    }\n",
       "</style>\n",
       "<table border=\"1\" class=\"dataframe\">\n",
       "  <thead>\n",
       "    <tr style=\"text-align: right;\">\n",
       "      <th></th>\n",
       "      <th>TOTALDEMAND</th>\n",
       "      <th>DEMAND_FORECAST</th>\n",
       "    </tr>\n",
       "    <tr>\n",
       "      <th>SETTLEMENTDATE</th>\n",
       "      <th></th>\n",
       "      <th></th>\n",
       "    </tr>\n",
       "  </thead>\n",
       "  <tbody>\n",
       "    <tr>\n",
       "      <th>2023-06-27 14:30:00</th>\n",
       "      <td>8061.935000</td>\n",
       "      <td>7978.915930</td>\n",
       "    </tr>\n",
       "    <tr>\n",
       "      <th>2023-06-27 15:00:00</th>\n",
       "      <td>8387.033333</td>\n",
       "      <td>8134.542344</td>\n",
       "    </tr>\n",
       "    <tr>\n",
       "      <th>2023-06-27 15:30:00</th>\n",
       "      <td>8805.440000</td>\n",
       "      <td>8262.035565</td>\n",
       "    </tr>\n",
       "    <tr>\n",
       "      <th>2023-06-27 16:00:00</th>\n",
       "      <td>9383.706667</td>\n",
       "      <td>8366.481340</td>\n",
       "    </tr>\n",
       "    <tr>\n",
       "      <th>2023-06-27 16:30:00</th>\n",
       "      <td>10004.191667</td>\n",
       "      <td>8452.046045</td>\n",
       "    </tr>\n",
       "  </tbody>\n",
       "</table>\n",
       "</div>"
      ],
      "text/plain": [
       "                      TOTALDEMAND  DEMAND_FORECAST\n",
       "SETTLEMENTDATE                                    \n",
       "2023-06-27 14:30:00   8061.935000      7978.915930\n",
       "2023-06-27 15:00:00   8387.033333      8134.542344\n",
       "2023-06-27 15:30:00   8805.440000      8262.035565\n",
       "2023-06-27 16:00:00   9383.706667      8366.481340\n",
       "2023-06-27 16:30:00  10004.191667      8452.046045"
      ]
     },
     "execution_count": 122,
     "metadata": {},
     "output_type": "execute_result"
    }
   ],
   "source": [
    "test[['TOTALDEMAND','DEMAND_FORECAST']][:5]"
   ]
  },
  {
   "cell_type": "markdown",
   "id": "0a0a502d",
   "metadata": {},
   "source": [
    "##### Observations\n",
    "1. Results are poor because the model predictions are added as ground truth to the original training set to get predictions for successive timestamps \n",
    "2. If the actual demand is passed as ground truth to predict the future demand, the result would be better"
   ]
  },
  {
   "cell_type": "code",
   "execution_count": null,
   "id": "47b90878",
   "metadata": {},
   "outputs": [],
   "source": [
    "# HOW TO CONSIDER OTHER FEATURES WHEN FORECASTING THE TIME SERIES VARIABLE"
   ]
  }
 ],
 "metadata": {
  "kernelspec": {
   "display_name": "tvenv",
   "language": "python",
   "name": "tvenv"
  },
  "language_info": {
   "codemirror_mode": {
    "name": "ipython",
    "version": 3
   },
   "file_extension": ".py",
   "mimetype": "text/x-python",
   "name": "python",
   "nbconvert_exporter": "python",
   "pygments_lexer": "ipython3",
   "version": "3.9.18"
  }
 },
 "nbformat": 4,
 "nbformat_minor": 5
}
